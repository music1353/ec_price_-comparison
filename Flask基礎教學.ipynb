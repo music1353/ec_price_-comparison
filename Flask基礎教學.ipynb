{
 "cells": [
  {
   "cell_type": "code",
   "execution_count": 12,
   "metadata": {},
   "outputs": [
    {
     "name": "stderr",
     "output_type": "stream",
     "text": [
      " * Running on http://127.0.0.1:5000/ (Press CTRL+C to quit)\n"
     ]
    },
    {
     "name": "stdout",
     "output_type": "stream",
     "text": [
      "<Thread(Thread-10, initial)> thread start !\n",
      "<Thread(Thread-11, initial)> thread start !\n"
     ]
    },
    {
     "name": "stderr",
     "output_type": "stream",
     "text": [
      "127.0.0.1 - - [26/Sep/2019 21:07:44] \"GET /prods?q=ssd&num=20 HTTP/1.1\" 200 -\n"
     ]
    }
   ],
   "source": [
    "from ec_crawler.algo import pchome, umall\n",
    "from ec_crawler.engine import crawler\n",
    "\n",
    "from flask import Flask, request, jsonify, render_template\n",
    "app = Flask(__name__)\n",
    "\n",
    "crawler = crawler(pchome, umall)\n",
    "\n",
    "@app.route(\"/\")\n",
    "def index():\n",
    "    return \"Hello Flask !\"\n",
    "\n",
    "@app.route('/about')\n",
    "def about():\n",
    "    return 'this is flask backend server'\n",
    "\n",
    "@app.route('/api/prods', methods=['GET'])\n",
    "def get_prods():\n",
    "    q = request.args.get('q')\n",
    "    num = request.args.get('num')\n",
    "    \n",
    "    if int(num)%20 == 0:\n",
    "        prod_list = crawler.run(q, num)\n",
    "        \n",
    "        result = {\n",
    "            'status': 200,\n",
    "            'result': prod_list,\n",
    "            'msg': 'success'\n",
    "        }\n",
    "        return jsonify(result)\n",
    "    else:\n",
    "        result = {\n",
    "            'status': 404,\n",
    "            'result': '',\n",
    "            'msg': 'error, the num need to div by 20'\n",
    "        }\n",
    "        return jsonify(result)\n",
    "    \n",
    "@app.route('/prods')\n",
    "def prods():\n",
    "    q = request.args.get('q')\n",
    "    num = request.args.get('num')\n",
    "    \n",
    "    if int(num)%20 == 0:\n",
    "        prod_list = crawler.run(q, num)\n",
    "        return render_template('prod.html', prod_list=prod_list)\n",
    "    else:\n",
    "        return '404'\n",
    "\n",
    "\n",
    "@app.route('/hello/')\n",
    "@app.route('/hello/<name>')\n",
    "def hello(name=None):\n",
    "    return render_template('name.html', name=name)\n",
    "\n",
    "\n",
    "if __name__ == \"__main__\":\n",
    "    app.run()"
   ]
  },
  {
   "cell_type": "code",
   "execution_count": null,
   "metadata": {
    "collapsed": true
   },
   "outputs": [],
   "source": []
  },
  {
   "cell_type": "code",
   "execution_count": null,
   "metadata": {
    "collapsed": true
   },
   "outputs": [],
   "source": []
  }
 ],
 "metadata": {
  "kernelspec": {
   "display_name": "Python 3",
   "language": "python",
   "name": "python3"
  },
  "language_info": {
   "codemirror_mode": {
    "name": "ipython",
    "version": 3
   },
   "file_extension": ".py",
   "mimetype": "text/x-python",
   "name": "python",
   "nbconvert_exporter": "python",
   "pygments_lexer": "ipython3",
   "version": "3.6.1"
  }
 },
 "nbformat": 4,
 "nbformat_minor": 2
}
