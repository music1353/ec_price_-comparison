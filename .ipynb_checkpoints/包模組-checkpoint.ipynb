{
 "cells": [
  {
   "cell_type": "code",
   "execution_count": null,
   "metadata": {
    "collapsed": true
   },
   "outputs": [],
   "source": [
    "PCHOME_PROD_LINK_URL = 'https://24h.pchome.com.tw/prod/'\n",
    "PCHOME_PIC_URL = 'https://d.ecimg.tw'\n",
    "header = {\n",
    "    'User-Agent': 'Mozilla/5.0 (Macintosh; Intel Mac OS X 10_13_2) AppleWebKit/537.36 (KHTML, like Gecko) Chrome/74.0.3729.169 Safari/537.36',\n",
    "    'Connection': 'close'\n",
    "}\n",
    "\n",
    "PROD_NAME = 'ssd'\n",
    "page_num = 1\n",
    "PCHOME_URL = 'https://ecshweb.pchome.com.tw/search/v3.3/all/results?q='+ PROD_NAME +'&page='+ str(page_num) +'&sort=sale/dc'\n",
    "resp = requests.get(PCHOME_URL, headers=header)"
   ]
  },
  {
   "cell_type": "code",
   "execution_count": null,
   "metadata": {
    "collapsed": true
   },
   "outputs": [],
   "source": [
    "data = json.loads(resp.text)\n",
    "prods = data['prods']\n",
    "print(prods)"
   ]
  },
  {
   "cell_type": "code",
   "execution_count": 19,
   "metadata": {
    "collapsed": true
   },
   "outputs": [],
   "source": [
    "# pchome crawler func\n",
    "# SEARCH_NUM: 表20個\n",
    "\n",
    "import requests\n",
    "import json\n",
    "import time\n",
    "\n",
    "def pchome_crawler(PROD_NAME, SEARCH_NUM):\n",
    "    # base\n",
    "    PCHOME_PROD_LINK_URL = 'https://24h.pchome.com.tw/prod/'\n",
    "    PCHOME_PIC_URL = 'https://d.ecimg.tw'\n",
    "    header = {\n",
    "        'User-Agent': 'Mozilla/5.0 (Macintosh; Intel Mac OS X 10_13_2) AppleWebKit/537.36 (KHTML, like Gecko) Chrome/74.0.3729.169 Safari/537.36',\n",
    "        'Connection': 'close'\n",
    "    }\n",
    "    \n",
    "    print(PROD_NAME)\n",
    "    print(SEARCH_NUM)\n",
    "    \n",
    "    # 存放最後clean出來的商品資料\n",
    "    prod_list = [] \n",
    "    print(int(SEARCH_NUM/20)+1)\n",
    "    \n",
    "    # main\n",
    "    for page_num in range(1, int(SEARCH_NUM/20)+1):\n",
    "        PCHOME_URL = 'https://ecshweb.pchome.com.tw/search/v3.3/all/results?q='+ PROD_NAME +'&page='+ str(page_num) +'&sort=sale/dc'\n",
    "        resp = requests.get(PCHOME_URL, headers=header)\n",
    "        print(resp.status_code)\n",
    "        print('zz')\n",
    "        if resp.status_code == 200: # 如果請求成功，則去抓產品列表\n",
    "            data = json.loads(resp.text)\n",
    "            prods = data['prods']\n",
    "            print(prods)\n",
    "\n",
    "            for item in prods: # 抓細項\n",
    "                prod_id = item['Id']\n",
    "                prod_name = item['name']\n",
    "                prod_price = str(item['price'])\n",
    "                prod_url = PCHOME_PROD_LINK_URL + prod_id\n",
    "                prod_pic = PCHOME_PIC_URL + item['picS']\n",
    "\n",
    "                obj = {\n",
    "                    'from': 'pchome',\n",
    "                    'id': prod_id,\n",
    "                    'name': prod_name,\n",
    "                    'prod_price': prod_price,\n",
    "                    'url': prod_url,\n",
    "                    'prod_pic': prod_pic\n",
    "                }\n",
    "                # q.put(obj)\n",
    "                print(obj)\n",
    "                prod_list.append(obj)\n",
    "\n",
    "            time.sleep(0.5) \n",
    "        else:\n",
    "            print('error')\n",
    "            break\n",
    "    \n",
    "    return prod_list"
   ]
  },
  {
   "cell_type": "code",
   "execution_count": 20,
   "metadata": {},
   "outputs": [
    {
     "name": "stdout",
     "output_type": "stream",
     "text": [
      "ssd\n",
      "10\n",
      "1\n"
     ]
    },
    {
     "data": {
      "text/plain": [
       "[]"
      ]
     },
     "execution_count": 20,
     "metadata": {},
     "output_type": "execute_result"
    }
   ],
   "source": [
    "pchome_crawler('ssd', 10)"
   ]
  },
  {
   "cell_type": "code",
   "execution_count": null,
   "metadata": {
    "collapsed": true
   },
   "outputs": [],
   "source": [
    "# u-mall crawler func\n",
    "\n",
    "import requests\n",
    "import json\n",
    "import time\n",
    "\n",
    "def umall_crawler(q, PROD_NAME, SEARCH_NUM):\n",
    "    # base\n",
    "    UMALL_URL = 'https://www.u-mall.com.tw/Search/Get'\n",
    "    UMALL_PROD_LINK_URL = 'https://www.u-mall.com.tw/'\n",
    "    header = {\n",
    "        'User-Agent': 'Mozilla/5.0 (Macintosh; Intel Mac OS X 10_13_2) AppleWebKit/537.36 (KHTML, like Gecko) Chrome/74.0.3729.169 Safari/537.36',\n",
    "        'Connection': 'close'\n",
    "    }\n",
    "    \n",
    "    # 存放最後clean出來的商品資料\n",
    "    # prod_list = [] \n",
    "    \n",
    "    # main\n",
    "    POST_HEADER = {\n",
    "        'keyword': PROD_NAME,\n",
    "        'model[cateName]': '全站',\n",
    "        'model[pageSize]': int(SEARCH_NUM)\n",
    "    }\n",
    "    resp = requests.post(UMALL_URL, headers=header, data=POST_HEADER)\n",
    "    \n",
    "    if resp.status_code == 200:\n",
    "        ori_data = json.loads(resp.text)\n",
    "        data = ori_data['searchResult']['products']\n",
    "\n",
    "        for item in data:\n",
    "            prod_id = str(item['id'])\n",
    "            prod_name = item['title']\n",
    "            prod_price = item['finalPrice']\n",
    "            prod_url = UMALL_PROD_LINK_URL + item['pageLink']\n",
    "            prod_pic = 'https:' + item['imageUrl']\n",
    "\n",
    "            obj = {\n",
    "                'from': 'umall',\n",
    "                'id': prod_id,\n",
    "                'name': prod_name,\n",
    "                'prod_price': prod_price,\n",
    "                'url': prod_url,\n",
    "                'prod_pic': prod_pic\n",
    "            }\n",
    "            q.put(obj)\n",
    "            # prod_list.append(obj)\n",
    "            \n",
    "        # return prod_list\n",
    "    else:\n",
    "        print('error')"
   ]
  },
  {
   "cell_type": "code",
   "execution_count": null,
   "metadata": {
    "collapsed": true
   },
   "outputs": [],
   "source": [
    "umall_crawler('ssd', 100)"
   ]
  },
  {
   "cell_type": "markdown",
   "metadata": {},
   "source": [
    "## 平行處理 (Multi Thread)"
   ]
  },
  {
   "cell_type": "code",
   "execution_count": null,
   "metadata": {
    "collapsed": true
   },
   "outputs": [],
   "source": [
    "import threading\n",
    "\n",
    "def get_pchome_data():\n",
    "    data = pchome_crawler('ssd', 100)\n",
    "#     for item in data:\n",
    "#         data_pool = data_pool.append(item)\n",
    "    print(data)\n",
    "    \n",
    "def get_umall_data():\n",
    "    data = umall_crawler('ssd', 100)\n",
    "#     for item in data:\n",
    "#         data_pool = data_pool.append(item)\n",
    "    print(data)\n",
    "    \n",
    "\n",
    "t_pchome_crawler = threading.Thread(target = get_pchome_data)\n",
    "t_umall_crawler = threading.Thread(target = get_umall_data)\n",
    "\n",
    "t_pchome_crawler.start()\n",
    "t_umall_crawler.start()\n",
    "\n",
    "t_pchome_crawler.join()\n",
    "t_umall_crawler.join()"
   ]
  },
  {
   "cell_type": "markdown",
   "metadata": {
    "collapsed": true
   },
   "source": [
    "# 包成class"
   ]
  },
  {
   "cell_type": "code",
   "execution_count": null,
   "metadata": {
    "collapsed": true
   },
   "outputs": [],
   "source": [
    "import queue\n",
    "import threading"
   ]
  },
  {
   "cell_type": "code",
   "execution_count": null,
   "metadata": {
    "collapsed": true
   },
   "outputs": [],
   "source": [
    "class crawler:\n",
    "    def __init__(self, *crawler_algo):\n",
    "        self.crawler_algo = crawler_algo # 存各ec的爬蟲演算法\n",
    "    \n",
    "    def show_algo(self):\n",
    "        print(self.crawler_algo)\n",
    "        \n",
    "    def run(self, prod_name, data_num): # 執行多執行緒的爬蟲\n",
    "        threads = []\n",
    "        q = queue.Queue()\n",
    "        \n",
    "        for algo in self.crawler_algo:\n",
    "            t = threading.Thread(target=algo, args=(q, prod_name, data_num))\n",
    "            threads.append(t)\n",
    "            \n",
    "        for t in threads:\n",
    "            t.start()\n",
    "            \n",
    "        for t in threads:\n",
    "            t.join()\n",
    "        \n",
    "        prod_list = []\n",
    "        \n",
    "        while not q.empty():\n",
    "            prod_list.append(q.get())\n",
    "            \n",
    "        print(prod_list)"
   ]
  },
  {
   "cell_type": "code",
   "execution_count": null,
   "metadata": {
    "collapsed": true
   },
   "outputs": [],
   "source": [
    "crawler = crawler(pchome_crawler, umall_crawler)\n",
    "crawler.show_algo()"
   ]
  },
  {
   "cell_type": "code",
   "execution_count": null,
   "metadata": {
    "collapsed": true
   },
   "outputs": [],
   "source": [
    "crawler.run('ssd', 20)"
   ]
  },
  {
   "cell_type": "markdown",
   "metadata": {},
   "source": [
    "# 測試ec_crawler module"
   ]
  },
  {
   "cell_type": "code",
   "execution_count": 3,
   "metadata": {
    "collapsed": true
   },
   "outputs": [],
   "source": [
    "from ec_crawler.algo import pchome, umall\n",
    "from ec_crawler.engine import crawler"
   ]
  },
  {
   "cell_type": "code",
   "execution_count": 4,
   "metadata": {},
   "outputs": [
    {
     "name": "stdout",
     "output_type": "stream",
     "text": [
      "(<function pchome at 0x10dbdb048>, <function umall at 0x10d2b0ae8>)\n"
     ]
    }
   ],
   "source": [
    "crawler = crawler(pchome, umall)\n",
    "\n",
    "# crawler.run('ssd', 10)\n",
    "crawler.show_algo()"
   ]
  },
  {
   "cell_type": "code",
   "execution_count": 5,
   "metadata": {},
   "outputs": [
    {
     "name": "stdout",
     "output_type": "stream",
     "text": [
      "<function pchome at 0x10dbdb048>\n",
      "<function umall at 0x10d2b0ae8>\n",
      "<Thread(Thread-4, initial)> thread start !\n",
      "<Thread(Thread-5, initial)> thread start !\n"
     ]
    }
   ],
   "source": [
    "prod_list = crawler.run('ssd', 10)"
   ]
  },
  {
   "cell_type": "code",
   "execution_count": 6,
   "metadata": {},
   "outputs": [
    {
     "data": {
      "text/plain": [
       "[{'from': 'umall',\n",
       "  'id': '2176806',\n",
       "  'name': 'Micron Crucial MX500 1TB  SSD',\n",
       "  'prod_pic': 'https://media.u-mall.com.tw/NXimg/002176/2176806/2176806_LM.jpg?t=17292084173',\n",
       "  'prod_price': '3749',\n",
       "  'url': 'https://www.u-mall.com.tw//Micron-Crucial-MX500-1TB-SSD/i/2176806'},\n",
       " {'from': 'umall',\n",
       "  'id': '1991796',\n",
       "  'name': 'KISSDIAMOND 男女款 戶外超薄速乾透氣防曬耐刮機能褲/8色(S-3XL)',\n",
       "  'prod_pic': 'https://media.u-mall.com.tw/NXimg/001991/1991796/1991796_LM.jpg?t=17439584831',\n",
       "  'prod_price': '558',\n",
       "  'url': 'https://www.u-mall.com.tw//KISSDIAMOND-男女款-戶外超薄速乾透氣防曬耐刮機能褲-8色-S-3XL/i/1991796'},\n",
       " {'from': 'umall',\n",
       "  'id': '2319849',\n",
       "  'name': 'SanDisk Ultra MicroSDXC 128GB A1/100MB/s 記憶卡 [公司貨]',\n",
       "  'prod_pic': 'https://media.u-mall.com.tw/NXimg/002319/2319849/2319849_LM.jpg?t=17602109444',\n",
       "  'prod_price': '499',\n",
       "  'url': 'https://www.u-mall.com.tw//SanDisk-Ultra-MicroSDXC-128GB-A1-100MB-s-記憶卡-公司貨/i/2319849'},\n",
       " {'from': 'umall',\n",
       "  'id': '2186856',\n",
       "  'name': 'Micron Crucial P1 1TB SSD',\n",
       "  'prod_pic': 'https://media.u-mall.com.tw/NXimg/002186/2186856/2186856_LM.jpg?t=17310054976',\n",
       "  'prod_price': '3388',\n",
       "  'url': 'https://www.u-mall.com.tw//Micron-Crucial-P1-1TB-SSD/i/2186856'},\n",
       " {'from': 'umall',\n",
       "  'id': '2237173',\n",
       "  'name': 'SanDisk SSD Plus 升級版 480GB 2.5吋SATAIII固態硬碟 ',\n",
       "  'prod_pic': 'https://media.u-mall.com.tw/NXimg/002237/2237173/2237173_LM.jpg?t=17448274961',\n",
       "  'prod_price': '1688',\n",
       "  'url': 'https://www.u-mall.com.tw//SanDisk-SSD-Plus-升級版-480GB-2-5吋SATAIII固態硬碟/i/2237173'},\n",
       " {'from': 'umall',\n",
       "  'id': '2214914',\n",
       "  'name': 'SanDisk Extreme Pro SDXC 64GB 記憶卡(C10/U3/V30/UHS-1 /170M/90M/s) 公司貨',\n",
       "  'prod_pic': 'https://media.u-mall.com.tw/NXimg/002214/2214914/2214914_LM.jpg?t=17434154856',\n",
       "  'prod_price': '639',\n",
       "  'url': 'https://www.u-mall.com.tw//SanDisk-Extreme-Pro-SDXC-64GB-記憶卡-C10-U3-V30-UHS-1-170M-90M-s-公司貨/i/2214914'},\n",
       " {'from': 'umall',\n",
       "  'id': '1881860',\n",
       "  'name': 'SanDisk SSD Plus 升級版 1TB 2.5吋SATAIII固態硬碟(7mm)(SDSSDA-1T00-G26)',\n",
       "  'prod_pic': 'https://media.u-mall.com.tw/NXimg/001881/1881860/1881860_LM.jpg?t=17525151522',\n",
       "  'prod_price': '3388',\n",
       "  'url': 'https://www.u-mall.com.tw//SanDisk-SSD-Plus-升級版-1TB-2-5吋SATAIII固態硬碟-7mm-SDSSDA-1T00-G26/i/1881860'},\n",
       " {'from': 'umall',\n",
       "  'id': '2183116',\n",
       "  'name': '創見 microSDXC 64GB UHS-I Class 10 300s記憶卡(95MB) 公司貨',\n",
       "  'prod_pic': 'https://media.u-mall.com.tw/NXimg/002183/2183116/2183116_LM.jpg?t=17308531032',\n",
       "  'prod_price': '269',\n",
       "  'url': 'https://www.u-mall.com.tw//創見-microSDXC-64GB-UHS-I-Class-10-300s記憶卡-95MB-公司貨/i/2183116'},\n",
       " {'from': 'umall',\n",
       "  'id': '2186857',\n",
       "  'name': 'Micron Crucial P1 500GB SSD',\n",
       "  'prod_pic': 'https://media.u-mall.com.tw/NXimg/002186/2186857/2186857_LM.jpg?t=17310055009',\n",
       "  'prod_price': '1888',\n",
       "  'url': 'https://www.u-mall.com.tw//Micron-Crucial-P1-500GB-SSD/i/2186857'},\n",
       " {'from': 'umall',\n",
       "  'id': '5807870',\n",
       "  'name': '【2入組】Team 十銓 32GB 80MB/s microSDHC TF UHS-I C10 記憶卡',\n",
       "  'prod_pic': 'https://media.u-mall.com.tw/NXimg/005807/5807870/5807870_LM.jpg?t=15239553259',\n",
       "  'prod_price': '339',\n",
       "  'url': 'https://www.u-mall.com.tw//2入組-Team-十銓-32GB-80MB-s-microSDHC-TF-UHS-I-C10-記憶卡/i/5807870'}]"
      ]
     },
     "execution_count": 6,
     "metadata": {},
     "output_type": "execute_result"
    }
   ],
   "source": [
    "prod_list"
   ]
  },
  {
   "cell_type": "code",
   "execution_count": null,
   "metadata": {
    "collapsed": true
   },
   "outputs": [],
   "source": []
  }
 ],
 "metadata": {
  "kernelspec": {
   "display_name": "Python 3",
   "language": "python",
   "name": "python3"
  },
  "language_info": {
   "codemirror_mode": {
    "name": "ipython",
    "version": 3
   },
   "file_extension": ".py",
   "mimetype": "text/x-python",
   "name": "python",
   "nbconvert_exporter": "python",
   "pygments_lexer": "ipython3",
   "version": "3.6.1"
  }
 },
 "nbformat": 4,
 "nbformat_minor": 2
}
